{
  "cells": [
    {
      "cell_type": "markdown",
      "metadata": {
        "collapsed": true,
        "id": "r2MYIr8Fn78Q"
      },
      "source": [
        "Understanding Descriptive Statistics with python"
      ]
    },
    {
      "cell_type": "code",
      "execution_count": 25,
      "metadata": {
        "collapsed": true,
        "id": "Onvymzbgn78U"
      },
      "outputs": [],
      "source": [
        "import numpy as np\n",
        "import pandas as pd\n",
        "import matplotlib.pyplot as plt\n",
        "import scipy.stats as stats"
      ]
    },
    {
      "cell_type": "markdown",
      "metadata": {
        "id": "sJAoIqgjJzpa"
      },
      "source": [
        "descriptive statistics"
      ]
    },
    {
      "cell_type": "code",
      "execution_count": 26,
      "metadata": {
        "id": "nsOhkJcon78W"
      },
      "outputs": [],
      "source": [
        "\n",
        "df = pd.read_csv('house_prices.csv')"
      ]
    },
    {
      "cell_type": "code",
      "execution_count": 27,
      "metadata": {
        "colab": {
          "base_uri": "https://localhost:8080/",
          "height": 350
        },
        "id": "fAllBzToLE8c",
        "outputId": "ca021c27-c349-4858-be03-a69be8588601"
      },
      "outputs": [
        {
          "data": {
            "text/html": [
              "<div>\n",
              "<style scoped>\n",
              "    .dataframe tbody tr th:only-of-type {\n",
              "        vertical-align: middle;\n",
              "    }\n",
              "\n",
              "    .dataframe tbody tr th {\n",
              "        vertical-align: top;\n",
              "    }\n",
              "\n",
              "    .dataframe thead th {\n",
              "        text-align: right;\n",
              "    }\n",
              "</style>\n",
              "<table border=\"1\" class=\"dataframe\">\n",
              "  <thead>\n",
              "    <tr style=\"text-align: right;\">\n",
              "      <th></th>\n",
              "      <th>LotFrontage</th>\n",
              "      <th>LotArea</th>\n",
              "      <th>OverallQual</th>\n",
              "      <th>OverallCond</th>\n",
              "      <th>YearBuilt</th>\n",
              "      <th>YearRemodAdd</th>\n",
              "      <th>MasVnrArea</th>\n",
              "      <th>BsmtFinSF1</th>\n",
              "      <th>BsmtFinSF2</th>\n",
              "      <th>BsmtUnfSF</th>\n",
              "      <th>...</th>\n",
              "      <th>GarageArea</th>\n",
              "      <th>WoodDeckSF</th>\n",
              "      <th>OpenPorchSF</th>\n",
              "      <th>EnclosedPorch</th>\n",
              "      <th>3SsnPorch</th>\n",
              "      <th>ScreenPorch</th>\n",
              "      <th>PoolArea</th>\n",
              "      <th>MiscVal</th>\n",
              "      <th>YrSold</th>\n",
              "      <th>SalePrice</th>\n",
              "    </tr>\n",
              "  </thead>\n",
              "  <tbody>\n",
              "    <tr>\n",
              "      <th>count</th>\n",
              "      <td>1379.000000</td>\n",
              "      <td>1379.000000</td>\n",
              "      <td>1379.000000</td>\n",
              "      <td>1379.000000</td>\n",
              "      <td>1379.000000</td>\n",
              "      <td>1379.000000</td>\n",
              "      <td>1379.000000</td>\n",
              "      <td>1379.000000</td>\n",
              "      <td>1379.000000</td>\n",
              "      <td>1379.000000</td>\n",
              "      <td>...</td>\n",
              "      <td>1379.000000</td>\n",
              "      <td>1379.000000</td>\n",
              "      <td>1379.000000</td>\n",
              "      <td>1379.000000</td>\n",
              "      <td>1379.000000</td>\n",
              "      <td>1379.000000</td>\n",
              "      <td>1379.000000</td>\n",
              "      <td>1379.000000</td>\n",
              "      <td>1379.000000</td>\n",
              "      <td>1379.00000</td>\n",
              "    </tr>\n",
              "    <tr>\n",
              "      <th>mean</th>\n",
              "      <td>57.766497</td>\n",
              "      <td>10695.812183</td>\n",
              "      <td>6.187092</td>\n",
              "      <td>5.577955</td>\n",
              "      <td>1972.958666</td>\n",
              "      <td>1985.435098</td>\n",
              "      <td>108.364757</td>\n",
              "      <td>455.578680</td>\n",
              "      <td>48.102248</td>\n",
              "      <td>570.765047</td>\n",
              "      <td>...</td>\n",
              "      <td>500.762146</td>\n",
              "      <td>97.456853</td>\n",
              "      <td>47.276287</td>\n",
              "      <td>21.039159</td>\n",
              "      <td>3.609862</td>\n",
              "      <td>15.945613</td>\n",
              "      <td>2.920957</td>\n",
              "      <td>42.889050</td>\n",
              "      <td>2007.812183</td>\n",
              "      <td>185479.51124</td>\n",
              "    </tr>\n",
              "    <tr>\n",
              "      <th>std</th>\n",
              "      <td>35.038221</td>\n",
              "      <td>10214.702133</td>\n",
              "      <td>1.345780</td>\n",
              "      <td>1.081031</td>\n",
              "      <td>29.379883</td>\n",
              "      <td>20.444852</td>\n",
              "      <td>184.195220</td>\n",
              "      <td>459.691379</td>\n",
              "      <td>164.324665</td>\n",
              "      <td>443.677845</td>\n",
              "      <td>...</td>\n",
              "      <td>185.680520</td>\n",
              "      <td>126.699192</td>\n",
              "      <td>65.210465</td>\n",
              "      <td>60.535107</td>\n",
              "      <td>30.154682</td>\n",
              "      <td>57.249593</td>\n",
              "      <td>41.335545</td>\n",
              "      <td>501.613931</td>\n",
              "      <td>1.330221</td>\n",
              "      <td>79023.89060</td>\n",
              "    </tr>\n",
              "    <tr>\n",
              "      <th>min</th>\n",
              "      <td>0.000000</td>\n",
              "      <td>1300.000000</td>\n",
              "      <td>2.000000</td>\n",
              "      <td>2.000000</td>\n",
              "      <td>1880.000000</td>\n",
              "      <td>1950.000000</td>\n",
              "      <td>0.000000</td>\n",
              "      <td>0.000000</td>\n",
              "      <td>0.000000</td>\n",
              "      <td>0.000000</td>\n",
              "      <td>...</td>\n",
              "      <td>160.000000</td>\n",
              "      <td>0.000000</td>\n",
              "      <td>0.000000</td>\n",
              "      <td>0.000000</td>\n",
              "      <td>0.000000</td>\n",
              "      <td>0.000000</td>\n",
              "      <td>0.000000</td>\n",
              "      <td>0.000000</td>\n",
              "      <td>2006.000000</td>\n",
              "      <td>35311.00000</td>\n",
              "    </tr>\n",
              "    <tr>\n",
              "      <th>25%</th>\n",
              "      <td>41.500000</td>\n",
              "      <td>7741.000000</td>\n",
              "      <td>5.000000</td>\n",
              "      <td>5.000000</td>\n",
              "      <td>1955.000000</td>\n",
              "      <td>1968.000000</td>\n",
              "      <td>0.000000</td>\n",
              "      <td>0.000000</td>\n",
              "      <td>0.000000</td>\n",
              "      <td>228.000000</td>\n",
              "      <td>...</td>\n",
              "      <td>380.000000</td>\n",
              "      <td>0.000000</td>\n",
              "      <td>0.000000</td>\n",
              "      <td>0.000000</td>\n",
              "      <td>0.000000</td>\n",
              "      <td>0.000000</td>\n",
              "      <td>0.000000</td>\n",
              "      <td>0.000000</td>\n",
              "      <td>2007.000000</td>\n",
              "      <td>134000.00000</td>\n",
              "    </tr>\n",
              "    <tr>\n",
              "      <th>50%</th>\n",
              "      <td>64.000000</td>\n",
              "      <td>9591.000000</td>\n",
              "      <td>6.000000</td>\n",
              "      <td>5.000000</td>\n",
              "      <td>1976.000000</td>\n",
              "      <td>1994.000000</td>\n",
              "      <td>0.000000</td>\n",
              "      <td>400.000000</td>\n",
              "      <td>0.000000</td>\n",
              "      <td>476.000000</td>\n",
              "      <td>...</td>\n",
              "      <td>484.000000</td>\n",
              "      <td>0.000000</td>\n",
              "      <td>27.000000</td>\n",
              "      <td>0.000000</td>\n",
              "      <td>0.000000</td>\n",
              "      <td>0.000000</td>\n",
              "      <td>0.000000</td>\n",
              "      <td>0.000000</td>\n",
              "      <td>2008.000000</td>\n",
              "      <td>167500.00000</td>\n",
              "    </tr>\n",
              "    <tr>\n",
              "      <th>75%</th>\n",
              "      <td>79.000000</td>\n",
              "      <td>11708.500000</td>\n",
              "      <td>7.000000</td>\n",
              "      <td>6.000000</td>\n",
              "      <td>2001.000000</td>\n",
              "      <td>2004.000000</td>\n",
              "      <td>170.500000</td>\n",
              "      <td>732.000000</td>\n",
              "      <td>0.000000</td>\n",
              "      <td>811.000000</td>\n",
              "      <td>...</td>\n",
              "      <td>580.000000</td>\n",
              "      <td>171.000000</td>\n",
              "      <td>69.500000</td>\n",
              "      <td>0.000000</td>\n",
              "      <td>0.000000</td>\n",
              "      <td>0.000000</td>\n",
              "      <td>0.000000</td>\n",
              "      <td>0.000000</td>\n",
              "      <td>2009.000000</td>\n",
              "      <td>217750.00000</td>\n",
              "    </tr>\n",
              "    <tr>\n",
              "      <th>max</th>\n",
              "      <td>313.000000</td>\n",
              "      <td>215245.000000</td>\n",
              "      <td>10.000000</td>\n",
              "      <td>9.000000</td>\n",
              "      <td>2010.000000</td>\n",
              "      <td>2010.000000</td>\n",
              "      <td>1600.000000</td>\n",
              "      <td>5644.000000</td>\n",
              "      <td>1474.000000</td>\n",
              "      <td>2336.000000</td>\n",
              "      <td>...</td>\n",
              "      <td>1418.000000</td>\n",
              "      <td>857.000000</td>\n",
              "      <td>547.000000</td>\n",
              "      <td>552.000000</td>\n",
              "      <td>508.000000</td>\n",
              "      <td>480.000000</td>\n",
              "      <td>738.000000</td>\n",
              "      <td>15500.000000</td>\n",
              "      <td>2010.000000</td>\n",
              "      <td>755000.00000</td>\n",
              "    </tr>\n",
              "  </tbody>\n",
              "</table>\n",
              "<p>8 rows × 35 columns</p>\n",
              "</div>"
            ],
            "text/plain": [
              "       LotFrontage        LotArea  OverallQual  OverallCond    YearBuilt  \\\n",
              "count  1379.000000    1379.000000  1379.000000  1379.000000  1379.000000   \n",
              "mean     57.766497   10695.812183     6.187092     5.577955  1972.958666   \n",
              "std      35.038221   10214.702133     1.345780     1.081031    29.379883   \n",
              "min       0.000000    1300.000000     2.000000     2.000000  1880.000000   \n",
              "25%      41.500000    7741.000000     5.000000     5.000000  1955.000000   \n",
              "50%      64.000000    9591.000000     6.000000     5.000000  1976.000000   \n",
              "75%      79.000000   11708.500000     7.000000     6.000000  2001.000000   \n",
              "max     313.000000  215245.000000    10.000000     9.000000  2010.000000   \n",
              "\n",
              "       YearRemodAdd   MasVnrArea   BsmtFinSF1   BsmtFinSF2    BsmtUnfSF  ...  \\\n",
              "count   1379.000000  1379.000000  1379.000000  1379.000000  1379.000000  ...   \n",
              "mean    1985.435098   108.364757   455.578680    48.102248   570.765047  ...   \n",
              "std       20.444852   184.195220   459.691379   164.324665   443.677845  ...   \n",
              "min     1950.000000     0.000000     0.000000     0.000000     0.000000  ...   \n",
              "25%     1968.000000     0.000000     0.000000     0.000000   228.000000  ...   \n",
              "50%     1994.000000     0.000000   400.000000     0.000000   476.000000  ...   \n",
              "75%     2004.000000   170.500000   732.000000     0.000000   811.000000  ...   \n",
              "max     2010.000000  1600.000000  5644.000000  1474.000000  2336.000000  ...   \n",
              "\n",
              "        GarageArea   WoodDeckSF  OpenPorchSF  EnclosedPorch    3SsnPorch  \\\n",
              "count  1379.000000  1379.000000  1379.000000    1379.000000  1379.000000   \n",
              "mean    500.762146    97.456853    47.276287      21.039159     3.609862   \n",
              "std     185.680520   126.699192    65.210465      60.535107    30.154682   \n",
              "min     160.000000     0.000000     0.000000       0.000000     0.000000   \n",
              "25%     380.000000     0.000000     0.000000       0.000000     0.000000   \n",
              "50%     484.000000     0.000000    27.000000       0.000000     0.000000   \n",
              "75%     580.000000   171.000000    69.500000       0.000000     0.000000   \n",
              "max    1418.000000   857.000000   547.000000     552.000000   508.000000   \n",
              "\n",
              "       ScreenPorch     PoolArea       MiscVal       YrSold     SalePrice  \n",
              "count  1379.000000  1379.000000   1379.000000  1379.000000    1379.00000  \n",
              "mean     15.945613     2.920957     42.889050  2007.812183  185479.51124  \n",
              "std      57.249593    41.335545    501.613931     1.330221   79023.89060  \n",
              "min       0.000000     0.000000      0.000000  2006.000000   35311.00000  \n",
              "25%       0.000000     0.000000      0.000000  2007.000000  134000.00000  \n",
              "50%       0.000000     0.000000      0.000000  2008.000000  167500.00000  \n",
              "75%       0.000000     0.000000      0.000000  2009.000000  217750.00000  \n",
              "max     480.000000   738.000000  15500.000000  2010.000000  755000.00000  \n",
              "\n",
              "[8 rows x 35 columns]"
            ]
          },
          "execution_count": 27,
          "metadata": {},
          "output_type": "execute_result"
        }
      ],
      "source": [
        "df.describe()"
      ]
    },
    {
      "cell_type": "code",
      "execution_count": 28,
      "metadata": {
        "colab": {
          "base_uri": "https://localhost:8080/",
          "height": 256
        },
        "id": "IiwjTdhdn78W",
        "outputId": "7fe9145b-94fc-4c64-deb3-3ca27f0c6c3d"
      },
      "outputs": [
        {
          "data": {
            "text/html": [
              "<div>\n",
              "<style scoped>\n",
              "    .dataframe tbody tr th:only-of-type {\n",
              "        vertical-align: middle;\n",
              "    }\n",
              "\n",
              "    .dataframe tbody tr th {\n",
              "        vertical-align: top;\n",
              "    }\n",
              "\n",
              "    .dataframe thead th {\n",
              "        text-align: right;\n",
              "    }\n",
              "</style>\n",
              "<table border=\"1\" class=\"dataframe\">\n",
              "  <thead>\n",
              "    <tr style=\"text-align: right;\">\n",
              "      <th></th>\n",
              "      <th>LotFrontage</th>\n",
              "      <th>LotArea</th>\n",
              "      <th>OverallQual</th>\n",
              "      <th>OverallCond</th>\n",
              "      <th>YearBuilt</th>\n",
              "      <th>YearRemodAdd</th>\n",
              "      <th>MasVnrArea</th>\n",
              "      <th>BsmtFinSF1</th>\n",
              "      <th>BsmtFinSF2</th>\n",
              "      <th>BsmtUnfSF</th>\n",
              "      <th>...</th>\n",
              "      <th>GarageArea</th>\n",
              "      <th>WoodDeckSF</th>\n",
              "      <th>OpenPorchSF</th>\n",
              "      <th>EnclosedPorch</th>\n",
              "      <th>3SsnPorch</th>\n",
              "      <th>ScreenPorch</th>\n",
              "      <th>PoolArea</th>\n",
              "      <th>MiscVal</th>\n",
              "      <th>YrSold</th>\n",
              "      <th>SalePrice</th>\n",
              "    </tr>\n",
              "  </thead>\n",
              "  <tbody>\n",
              "    <tr>\n",
              "      <th>0</th>\n",
              "      <td>65.0</td>\n",
              "      <td>8450</td>\n",
              "      <td>7</td>\n",
              "      <td>5</td>\n",
              "      <td>2003</td>\n",
              "      <td>2003</td>\n",
              "      <td>196.0</td>\n",
              "      <td>706</td>\n",
              "      <td>0</td>\n",
              "      <td>150</td>\n",
              "      <td>...</td>\n",
              "      <td>548</td>\n",
              "      <td>0</td>\n",
              "      <td>61</td>\n",
              "      <td>0</td>\n",
              "      <td>0</td>\n",
              "      <td>0</td>\n",
              "      <td>0</td>\n",
              "      <td>0</td>\n",
              "      <td>2008</td>\n",
              "      <td>208500</td>\n",
              "    </tr>\n",
              "    <tr>\n",
              "      <th>1</th>\n",
              "      <td>80.0</td>\n",
              "      <td>9600</td>\n",
              "      <td>6</td>\n",
              "      <td>8</td>\n",
              "      <td>1976</td>\n",
              "      <td>1976</td>\n",
              "      <td>0.0</td>\n",
              "      <td>978</td>\n",
              "      <td>0</td>\n",
              "      <td>284</td>\n",
              "      <td>...</td>\n",
              "      <td>460</td>\n",
              "      <td>298</td>\n",
              "      <td>0</td>\n",
              "      <td>0</td>\n",
              "      <td>0</td>\n",
              "      <td>0</td>\n",
              "      <td>0</td>\n",
              "      <td>0</td>\n",
              "      <td>2007</td>\n",
              "      <td>181500</td>\n",
              "    </tr>\n",
              "    <tr>\n",
              "      <th>2</th>\n",
              "      <td>68.0</td>\n",
              "      <td>11250</td>\n",
              "      <td>7</td>\n",
              "      <td>5</td>\n",
              "      <td>2001</td>\n",
              "      <td>2002</td>\n",
              "      <td>162.0</td>\n",
              "      <td>486</td>\n",
              "      <td>0</td>\n",
              "      <td>434</td>\n",
              "      <td>...</td>\n",
              "      <td>608</td>\n",
              "      <td>0</td>\n",
              "      <td>42</td>\n",
              "      <td>0</td>\n",
              "      <td>0</td>\n",
              "      <td>0</td>\n",
              "      <td>0</td>\n",
              "      <td>0</td>\n",
              "      <td>2008</td>\n",
              "      <td>223500</td>\n",
              "    </tr>\n",
              "    <tr>\n",
              "      <th>3</th>\n",
              "      <td>60.0</td>\n",
              "      <td>9550</td>\n",
              "      <td>7</td>\n",
              "      <td>5</td>\n",
              "      <td>1915</td>\n",
              "      <td>1970</td>\n",
              "      <td>0.0</td>\n",
              "      <td>216</td>\n",
              "      <td>0</td>\n",
              "      <td>540</td>\n",
              "      <td>...</td>\n",
              "      <td>642</td>\n",
              "      <td>0</td>\n",
              "      <td>35</td>\n",
              "      <td>272</td>\n",
              "      <td>0</td>\n",
              "      <td>0</td>\n",
              "      <td>0</td>\n",
              "      <td>0</td>\n",
              "      <td>2006</td>\n",
              "      <td>140000</td>\n",
              "    </tr>\n",
              "    <tr>\n",
              "      <th>4</th>\n",
              "      <td>84.0</td>\n",
              "      <td>14260</td>\n",
              "      <td>8</td>\n",
              "      <td>5</td>\n",
              "      <td>2000</td>\n",
              "      <td>2000</td>\n",
              "      <td>350.0</td>\n",
              "      <td>655</td>\n",
              "      <td>0</td>\n",
              "      <td>490</td>\n",
              "      <td>...</td>\n",
              "      <td>836</td>\n",
              "      <td>192</td>\n",
              "      <td>84</td>\n",
              "      <td>0</td>\n",
              "      <td>0</td>\n",
              "      <td>0</td>\n",
              "      <td>0</td>\n",
              "      <td>0</td>\n",
              "      <td>2008</td>\n",
              "      <td>250000</td>\n",
              "    </tr>\n",
              "  </tbody>\n",
              "</table>\n",
              "<p>5 rows × 35 columns</p>\n",
              "</div>"
            ],
            "text/plain": [
              "   LotFrontage  LotArea  OverallQual  OverallCond  YearBuilt  YearRemodAdd  \\\n",
              "0         65.0     8450            7            5       2003          2003   \n",
              "1         80.0     9600            6            8       1976          1976   \n",
              "2         68.0    11250            7            5       2001          2002   \n",
              "3         60.0     9550            7            5       1915          1970   \n",
              "4         84.0    14260            8            5       2000          2000   \n",
              "\n",
              "   MasVnrArea  BsmtFinSF1  BsmtFinSF2  BsmtUnfSF  ...  GarageArea  WoodDeckSF  \\\n",
              "0       196.0         706           0        150  ...         548           0   \n",
              "1         0.0         978           0        284  ...         460         298   \n",
              "2       162.0         486           0        434  ...         608           0   \n",
              "3         0.0         216           0        540  ...         642           0   \n",
              "4       350.0         655           0        490  ...         836         192   \n",
              "\n",
              "   OpenPorchSF  EnclosedPorch  3SsnPorch  ScreenPorch  PoolArea  MiscVal  \\\n",
              "0           61              0          0            0         0        0   \n",
              "1            0              0          0            0         0        0   \n",
              "2           42              0          0            0         0        0   \n",
              "3           35            272          0            0         0        0   \n",
              "4           84              0          0            0         0        0   \n",
              "\n",
              "   YrSold  SalePrice  \n",
              "0    2008     208500  \n",
              "1    2007     181500  \n",
              "2    2008     223500  \n",
              "3    2006     140000  \n",
              "4    2008     250000  \n",
              "\n",
              "[5 rows x 35 columns]"
            ]
          },
          "execution_count": 28,
          "metadata": {},
          "output_type": "execute_result"
        }
      ],
      "source": [
        "df.head()"
      ]
    },
    {
      "cell_type": "code",
      "execution_count": 29,
      "metadata": {
        "colab": {
          "base_uri": "https://localhost:8080/"
        },
        "id": "Q2FJKsgAn78Y",
        "outputId": "e45da423-4dbd-4e82-846d-391664bc3910"
      },
      "outputs": [
        {
          "data": {
            "text/plain": [
              "(1379, 35)"
            ]
          },
          "execution_count": 29,
          "metadata": {},
          "output_type": "execute_result"
        }
      ],
      "source": [
        "df.shape"
      ]
    },
    {
      "cell_type": "code",
      "execution_count": 30,
      "metadata": {
        "colab": {
          "base_uri": "https://localhost:8080/"
        },
        "id": "dLkBYe-3n78Z",
        "outputId": "5987fa4e-0fe0-45ca-ff11-c7329319a5c5"
      },
      "outputs": [
        {
          "name": "stdout",
          "output_type": "stream",
          "text": [
            "<class 'pandas.core.frame.DataFrame'>\n",
            "RangeIndex: 1379 entries, 0 to 1378\n",
            "Data columns (total 35 columns):\n",
            " #   Column         Non-Null Count  Dtype  \n",
            "---  ------         --------------  -----  \n",
            " 0   LotFrontage    1379 non-null   float64\n",
            " 1   LotArea        1379 non-null   int64  \n",
            " 2   OverallQual    1379 non-null   int64  \n",
            " 3   OverallCond    1379 non-null   int64  \n",
            " 4   YearBuilt      1379 non-null   int64  \n",
            " 5   YearRemodAdd   1379 non-null   int64  \n",
            " 6   MasVnrArea     1379 non-null   float64\n",
            " 7   BsmtFinSF1     1379 non-null   int64  \n",
            " 8   BsmtFinSF2     1379 non-null   int64  \n",
            " 9   BsmtUnfSF      1379 non-null   int64  \n",
            " 10  TotalBsmtSF    1379 non-null   int64  \n",
            " 11  1stFlrSF       1379 non-null   int64  \n",
            " 12  2ndFlrSF       1379 non-null   int64  \n",
            " 13  LowQualFinSF   1379 non-null   int64  \n",
            " 14  GrLivArea      1379 non-null   int64  \n",
            " 15  BsmtFullBath   1379 non-null   int64  \n",
            " 16  BsmtHalfBath   1379 non-null   int64  \n",
            " 17  FullBath       1379 non-null   int64  \n",
            " 18  HalfBath       1379 non-null   int64  \n",
            " 19  BedroomAbvGr   1379 non-null   int64  \n",
            " 20  KitchenAbvGr   1379 non-null   int64  \n",
            " 21  TotRmsAbvGrd   1379 non-null   int64  \n",
            " 22  Fireplaces     1379 non-null   int64  \n",
            " 23  GarageYrBlt    1379 non-null   float64\n",
            " 24  GarageCars     1379 non-null   int64  \n",
            " 25  GarageArea     1379 non-null   int64  \n",
            " 26  WoodDeckSF     1379 non-null   int64  \n",
            " 27  OpenPorchSF    1379 non-null   int64  \n",
            " 28  EnclosedPorch  1379 non-null   int64  \n",
            " 29  3SsnPorch      1379 non-null   int64  \n",
            " 30  ScreenPorch    1379 non-null   int64  \n",
            " 31  PoolArea       1379 non-null   int64  \n",
            " 32  MiscVal        1379 non-null   int64  \n",
            " 33  YrSold         1379 non-null   int64  \n",
            " 34  SalePrice      1379 non-null   int64  \n",
            "dtypes: float64(3), int64(32)\n",
            "memory usage: 377.2 KB\n"
          ]
        }
      ],
      "source": [
        "df.info()"
      ]
    },
    {
      "cell_type": "code",
      "execution_count": 31,
      "metadata": {
        "colab": {
          "base_uri": "https://localhost:8080/"
        },
        "id": "4LZAeYlon78a",
        "outputId": "85d07a91-c01b-4425-f896-2782808d2ded"
      },
      "outputs": [
        {
          "name": "stdout",
          "output_type": "stream",
          "text": [
            "185479.511240029\n",
            "Mean:  185479.511240029 \n",
            "Median:  167500.0 \n",
            "Mode:  140000\n"
          ]
        }
      ],
      "source": [
        "saleprice = df['SalePrice']\n",
        "\n",
        "m1=np.mean(saleprice)\n",
        "print(m1)\n",
        "mean=saleprice.mean()\n",
        "median=saleprice.median()\n",
        "mode=saleprice.mode()\n",
        "\n",
        "print('Mean: ',mean,'\\nMedian: ',median,'\\nMode: ',mode[0])\n",
        "\n"
      ]
    },
    {
      "cell_type": "markdown",
      "metadata": {
        "id": "-1Rqxzuqn78d"
      },
      "source": [
        "Measures to find the spread of data"
      ]
    },
    {
      "cell_type": "code",
      "execution_count": 32,
      "metadata": {
        "colab": {
          "base_uri": "https://localhost:8080/"
        },
        "id": "o5gm4wU2n78d",
        "outputId": "38e3a866-d787-4548-db89-0f278597c56c"
      },
      "outputs": [
        {
          "data": {
            "text/plain": [
              "np.int64(35311)"
            ]
          },
          "execution_count": 32,
          "metadata": {},
          "output_type": "execute_result"
        }
      ],
      "source": [
        "saleprice.min() #maximum value of salePrice"
      ]
    },
    {
      "cell_type": "code",
      "execution_count": 33,
      "metadata": {
        "colab": {
          "base_uri": "https://localhost:8080/"
        },
        "id": "h1bc6PeOn78e",
        "outputId": "890cc456-af7c-412c-bea4-e191443c0b8f"
      },
      "outputs": [
        {
          "data": {
            "text/plain": [
              "np.int64(755000)"
            ]
          },
          "execution_count": 33,
          "metadata": {},
          "output_type": "execute_result"
        }
      ],
      "source": [
        "saleprice.max() #minimum value of salePrice"
      ]
    },
    {
      "cell_type": "code",
      "execution_count": 34,
      "metadata": {
        "colab": {
          "base_uri": "https://localhost:8080/"
        },
        "id": "dqWRV3W2n78f",
        "outputId": "dd0c5c55-6e61-4dac-d6e6-ea7fc7d48273"
      },
      "outputs": [
        {
          "data": {
            "text/plain": [
              "np.int64(719689)"
            ]
          },
          "execution_count": 34,
          "metadata": {},
          "output_type": "execute_result"
        }
      ],
      "source": [
        "#Range\n",
        "saleprice.max()-saleprice.min()"
      ]
    },
    {
      "cell_type": "code",
      "execution_count": 35,
      "metadata": {
        "colab": {
          "base_uri": "https://localhost:8080/"
        },
        "id": "aT123S4Qn78f",
        "outputId": "f1fd4b79-5015-4e64-a8a5-1e0cae233428"
      },
      "outputs": [
        {
          "data": {
            "text/plain": [
              "np.float64(6244775285.521462)"
            ]
          },
          "execution_count": 35,
          "metadata": {},
          "output_type": "execute_result"
        }
      ],
      "source": [
        "#variance\n",
        "saleprice.var()"
      ]
    },
    {
      "cell_type": "code",
      "execution_count": 36,
      "metadata": {
        "colab": {
          "base_uri": "https://localhost:8080/"
        },
        "id": "YoTofWk-n78g",
        "outputId": "004be476-53d3-48fd-af93-ea26cd07f232"
      },
      "outputs": [
        {
          "data": {
            "text/plain": [
              "79023.8905997513"
            ]
          },
          "execution_count": 36,
          "metadata": {},
          "output_type": "execute_result"
        }
      ],
      "source": [
        "from math import sqrt\n",
        "\n",
        "#standard deviation\n",
        "std = sqrt(saleprice.var())\n",
        "std"
      ]
    },
    {
      "cell_type": "code",
      "execution_count": 37,
      "metadata": {
        "colab": {
          "base_uri": "https://localhost:8080/"
        },
        "id": "m1z-NN9J76Os",
        "outputId": "2619bb0f-8bc1-4385-f45b-b7c2971c3489"
      },
      "outputs": [
        {
          "name": "stdout",
          "output_type": "stream",
          "text": [
            "79023.8905997513\n"
          ]
        }
      ],
      "source": [
        "t1=saleprice.std()\n",
        "print(t1)"
      ]
    },
    {
      "cell_type": "code",
      "execution_count": 38,
      "metadata": {
        "colab": {
          "base_uri": "https://localhost:8080/"
        },
        "id": "UUaB77jwn78h",
        "outputId": "abae8602-9da6-4e81-dd52-4f264348aee4"
      },
      "outputs": [
        {
          "data": {
            "text/plain": [
              "np.float64(1.935362098363132)"
            ]
          },
          "execution_count": 38,
          "metadata": {},
          "output_type": "execute_result"
        }
      ],
      "source": [
        "#skewness\n",
        "saleprice.skew()"
      ]
    },
    {
      "cell_type": "markdown",
      "metadata": {
        "id": "wwOWhFK5dv8J"
      },
      "source": []
    },
    {
      "cell_type": "code",
      "execution_count": 39,
      "metadata": {
        "colab": {
          "base_uri": "https://localhost:8080/"
        },
        "id": "eXTo94Ycn78h",
        "outputId": "d1cae0ae-4c8d-4380-cee9-f1601f8a61ad"
      },
      "outputs": [
        {
          "data": {
            "text/plain": [
              "np.float64(6.735649337267559)"
            ]
          },
          "execution_count": 39,
          "metadata": {},
          "output_type": "execute_result"
        }
      ],
      "source": [
        "#kutosis\n",
        "saleprice.kurt()"
      ]
    },
    {
      "cell_type": "code",
      "execution_count": 40,
      "metadata": {
        "colab": {
          "base_uri": "https://localhost:8080/",
          "height": 445
        },
        "id": "hMqPzOhbn78h",
        "outputId": "18212484-4565-4a00-a585-262acc8083b7"
      },
      "outputs": [
        {
          "data": {
            "image/png": "[encoded data removed]",
            "text/plain": [
              "<Figure size 640x480 with 1 Axes>"
            ]
          },
          "metadata": {},
          "output_type": "display_data"
        }
      ],
      "source": [
        "#convert pandas DataFrame object to numpy array and sort\n",
        "h = np.asarray(df['SalePrice'])\n",
        "h = sorted(h)\n",
        "\n",
        "#use the scipy stats module to fit a normal distirbution with same mean and standard deviation\n",
        "fit = stats.norm.pdf(h, np.mean(h), np.std(h))\n",
        "\n",
        "#plot both series on the histogram\n",
        "plt.plot(h,fit,'-',linewidth = 2,label=\"Normal distribution with same mean and var\")\n",
        "#plt.hist(h,density=False,bins = 100,label=\"Actual distribution\")\n",
        "plt.legend()\n",
        "plt.show()"
      ]
    },
    {
      "cell_type": "markdown",
      "metadata": {
        "id": "8QijkPXan78i"
      },
      "source": [
        "We can see int the above graph that it is positively skewed with skewness score 1.93 and also has positive kurtosis(k=6.735)"
      ]
    },
    {
      "cell_type": "code",
      "execution_count": 41,
      "metadata": {
        "colab": {
          "base_uri": "https://localhost:8080/",
          "height": 539
        },
        "id": "vqtnGoPSn78i",
        "outputId": "7a5781d7-aee3-4618-ea79-0639b02ac4d8",
        "scrolled": false
      },
      "outputs": [
        {
          "name": "stdout",
          "output_type": "stream",
          "text": [
            "             LotArea  GrLivArea  GarageArea  SalePrice\n",
            "LotArea     1.000000   0.257243    0.167622   0.252921\n",
            "GrLivArea   0.257243   1.000000    0.478811   0.708172\n",
            "GarageArea  0.167622   0.478811    1.000000   0.608405\n",
            "SalePrice   0.252921   0.708172    0.608405   1.000000\n"
          ]
        },
        {
          "data": {
            "text/plain": [
              "<Axes: >"
            ]
          },
          "execution_count": 41,
          "metadata": {},
          "output_type": "execute_result"
        },
        {
          "data": {
            "image/png": "[encoded data removed]",
            "text/plain": [
              "<Figure size 640x480 with 2 Axes>"
            ]
          },
          "metadata": {},
          "output_type": "display_data"
        }
      ],
      "source": [
        "#checking correlation of 4 countinous variables\n",
        "import seaborn as sns\n",
        "%matplotlib inline\n",
        "corelation=df[['LotArea','GrLivArea','GarageArea','SalePrice']].corr()\n",
        "print (corelation)\n",
        "\n",
        "sns.heatmap(corelation)"
      ]
    },
    {
      "cell_type": "code",
      "execution_count": 42,
      "metadata": {
        "colab": {
          "base_uri": "https://localhost:8080/",
          "height": 175
        },
        "id": "zxAxcY4Dn78j",
        "outputId": "1eba7f30-5a48-4ac9-c4f6-69acee545439"
      },
      "outputs": [
        {
          "data": {
            "text/html": [
              "<div>\n",
              "<style scoped>\n",
              "    .dataframe tbody tr th:only-of-type {\n",
              "        vertical-align: middle;\n",
              "    }\n",
              "\n",
              "    .dataframe tbody tr th {\n",
              "        vertical-align: top;\n",
              "    }\n",
              "\n",
              "    .dataframe thead th {\n",
              "        text-align: right;\n",
              "    }\n",
              "</style>\n",
              "<table border=\"1\" class=\"dataframe\">\n",
              "  <thead>\n",
              "    <tr style=\"text-align: right;\">\n",
              "      <th></th>\n",
              "      <th>LotArea</th>\n",
              "      <th>GrLivArea</th>\n",
              "      <th>GarageArea</th>\n",
              "      <th>SalePrice</th>\n",
              "    </tr>\n",
              "  </thead>\n",
              "  <tbody>\n",
              "    <tr>\n",
              "      <th>LotArea</th>\n",
              "      <td>1.043401e+08</td>\n",
              "      <td>1.364127e+06</td>\n",
              "      <td>3.179236e+05</td>\n",
              "      <td>2.041596e+08</td>\n",
              "    </tr>\n",
              "    <tr>\n",
              "      <th>GrLivArea</th>\n",
              "      <td>1.364127e+06</td>\n",
              "      <td>2.695069e+05</td>\n",
              "      <td>4.615466e+04</td>\n",
              "      <td>2.905241e+07</td>\n",
              "    </tr>\n",
              "    <tr>\n",
              "      <th>GarageArea</th>\n",
              "      <td>3.179236e+05</td>\n",
              "      <td>4.615466e+04</td>\n",
              "      <td>3.447726e+04</td>\n",
              "      <td>8.927251e+06</td>\n",
              "    </tr>\n",
              "    <tr>\n",
              "      <th>SalePrice</th>\n",
              "      <td>2.041596e+08</td>\n",
              "      <td>2.905241e+07</td>\n",
              "      <td>8.927251e+06</td>\n",
              "      <td>6.244775e+09</td>\n",
              "    </tr>\n",
              "  </tbody>\n",
              "</table>\n",
              "</div>"
            ],
            "text/plain": [
              "                 LotArea     GrLivArea    GarageArea     SalePrice\n",
              "LotArea     1.043401e+08  1.364127e+06  3.179236e+05  2.041596e+08\n",
              "GrLivArea   1.364127e+06  2.695069e+05  4.615466e+04  2.905241e+07\n",
              "GarageArea  3.179236e+05  4.615466e+04  3.447726e+04  8.927251e+06\n",
              "SalePrice   2.041596e+08  2.905241e+07  8.927251e+06  6.244775e+09"
            ]
          },
          "execution_count": 42,
          "metadata": {},
          "output_type": "execute_result"
        }
      ],
      "source": [
        "#covariance\n",
        "df[['LotArea','GrLivArea','GarageArea','SalePrice']].cov().head()"
      ]
    },
    {
      "cell_type": "code",
      "execution_count": 43,
      "metadata": {
        "colab": {
          "base_uri": "https://localhost:8080/"
        },
        "id": "S24GF1een78j",
        "outputId": "cb0fb8ef-55ef-45f1-f652-e9295a024b2a"
      },
      "outputs": [
        {
          "data": {
            "text/plain": [
              "np.float64(167500.0)"
            ]
          },
          "execution_count": 43,
          "metadata": {},
          "output_type": "execute_result"
        }
      ],
      "source": [
        "# #50 percentile i.e median\n",
        "# np.percentile(df['salary'], 50)\n",
        "\n",
        "saleprice.quantile(0.5)"
      ]
    },
    {
      "cell_type": "code",
      "execution_count": 44,
      "metadata": {
        "colab": {
          "base_uri": "https://localhost:8080/"
        },
        "id": "kTnHiB0vn78j",
        "outputId": "8fdee89a-19b1-4d02-8c45-58499f6fc404"
      },
      "outputs": [
        {
          "data": {
            "text/plain": [
              "np.float64(217750.0)"
            ]
          },
          "execution_count": 44,
          "metadata": {},
          "output_type": "execute_result"
        }
      ],
      "source": [
        "# q75 = np.percentile(df['salary'], 75)\n",
        "# q75\n",
        "\n",
        "q3 = saleprice.quantile(0.75)\n",
        "q3"
      ]
    },
    {
      "cell_type": "code",
      "execution_count": 45,
      "metadata": {
        "colab": {
          "base_uri": "https://localhost:8080/"
        },
        "id": "1bEF9ipMn78k",
        "outputId": "517bc9b1-06db-434c-bb78-b7b9cef6c9d5"
      },
      "outputs": [
        {
          "data": {
            "text/plain": [
              "np.float64(134000.0)"
            ]
          },
          "execution_count": 45,
          "metadata": {},
          "output_type": "execute_result"
        }
      ],
      "source": [
        "#25th percentile\n",
        "# q25 = np.percentile(df['salary'], 25)\n",
        "q1 = saleprice.quantile(0.25)\n",
        "q1"
      ]
    },
    {
      "cell_type": "code",
      "execution_count": 46,
      "metadata": {
        "colab": {
          "base_uri": "https://localhost:8080/"
        },
        "id": "cJGrqeSgn78k",
        "outputId": "f4cd15b3-f4e1-4fce-928f-3cbb32b9332b"
      },
      "outputs": [
        {
          "data": {
            "text/plain": [
              "np.float64(83750.0)"
            ]
          },
          "execution_count": 46,
          "metadata": {},
          "output_type": "execute_result"
        }
      ],
      "source": [
        "#interquartile range\n",
        "IQR = q3  - q1\n",
        "IQR"
      ]
    },
    {
      "cell_type": "code",
      "execution_count": 47,
      "metadata": {
        "colab": {
          "base_uri": "https://localhost:8080/",
          "height": 430
        },
        "id": "kjPPgl7gn78k",
        "outputId": "27498267-5690-4a6e-cf5b-4348f22bbe53"
      },
      "outputs": [
        {
          "data": {
            "image/png": "[encoded data removed]",
            "text/plain": [
              "<Figure size 640x480 with 1 Axes>"
            ]
          },
          "metadata": {},
          "output_type": "display_data"
        }
      ],
      "source": [
        "plt.boxplot(saleprice,vert=False)\n",
        "plt.show()"
      ]
    },
    {
      "cell_type": "code",
      "execution_count": null,
      "metadata": {},
      "outputs": [],
      "source": []
    }
  ],
  "metadata": {
    "colab": {
      "provenance": []
    },
    "kernelspec": {
      "display_name": "Python 3",
      "language": "python",
      "name": "python3"
    },
    "language_info": {
      "codemirror_mode": {
        "name": "ipython",
        "version": 3
      },
      "file_extension": ".py",
      "mimetype": "text/x-python",
      "name": "python",
      "nbconvert_exporter": "python",
      "pygments_lexer": "ipython3",
      "version": "3.13.5"
    }
  },
  "nbformat": 4,
  "nbformat_minor": 0
}
